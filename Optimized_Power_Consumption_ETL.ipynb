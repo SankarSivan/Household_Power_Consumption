{
 "cells": [
  {
   "cell_type": "code",
   "execution_count": 5,
   "id": "6b3abc79",
   "metadata": {},
   "outputs": [],
   "source": [
    "import pandas as pd\n",
    "import numpy as np\n",
    "from ucimlrepo import fetch_ucirepo\n",
    "from sklearn.model_selection import train_test_split\n",
    "from sklearn.ensemble import RandomForestRegressor\n",
    "import joblib"
   ]
  },
  {
   "cell_type": "code",
   "execution_count": 6,
   "id": "987bdef5",
   "metadata": {},
   "outputs": [
    {
     "name": "stderr",
     "output_type": "stream",
     "text": [
      "c:\\Users\\104875\\AppData\\Local\\Programs\\Python\\Python310\\lib\\site-packages\\ucimlrepo\\fetch.py:97: DtypeWarning: Columns (2,3,4,5,6,7) have mixed types. Specify dtype option on import or set low_memory=False.\n",
      "  df = pd.read_csv(data_url)\n",
      "C:\\Users\\104875\\AppData\\Local\\Temp\\ipykernel_6768\\1668014526.py:8: FutureWarning: errors='ignore' is deprecated and will raise in a future version. Use to_numeric without passing `errors` and catch exceptions explicitly instead\n",
      "  df[col] = pd.to_numeric(df[col], errors='ignore')\n",
      "C:\\Users\\104875\\AppData\\Local\\Temp\\ipykernel_6768\\1668014526.py:11: UserWarning: Parsing dates in %d/%m/%Y %H:%M:%S format when dayfirst=False (the default) was specified. Pass `dayfirst=True` or specify a format to silence this warning.\n",
      "  df['DateTime'] = pd.to_datetime(df['Date'] + ' ' + df['Time'])\n"
     ]
    }
   ],
   "source": [
    "\n",
    "dataset = fetch_ucirepo(id=235)\n",
    "df = pd.concat([dataset.data.features, dataset.data.targets], axis=1)\n",
    "df.replace('?', np.nan, inplace=True)\n",
    "df.dropna(inplace=True)\n",
    "\n",
    "# Convert numeric columns\n",
    "for col in df.columns:\n",
    "    df[col] = pd.to_numeric(df[col], errors='ignore')\n",
    "\n",
    "# Convert datetime\n",
    "df['DateTime'] = pd.to_datetime(df['Date'] + ' ' + df['Time'])\n",
    "df['hour'] = df['DateTime'].dt.hour\n",
    "df['weekday'] = df['DateTime'].dt.weekday\n",
    "\n",
    "# Drop unnecessary columns\n",
    "df.drop(['Date', 'Time', 'Sub_metering_1', 'Sub_metering_2', 'Sub_metering_3'], axis=1, inplace=True)\n"
   ]
  },
  {
   "cell_type": "code",
   "execution_count": 7,
   "id": "f7633203",
   "metadata": {},
   "outputs": [],
   "source": [
    "\n",
    "# Reduce memory usage\n",
    "for col in df.select_dtypes(include=['float']):\n",
    "    df[col] = pd.to_numeric(df[col], downcast='float')\n",
    "for col in df.select_dtypes(include=['int']):\n",
    "    df[col] = pd.to_numeric(df[col], downcast='integer')\n"
   ]
  },
  {
   "cell_type": "code",
   "execution_count": 8,
   "id": "17cb23a5",
   "metadata": {},
   "outputs": [
    {
     "data": {
      "text/plain": [
       "['Ops_rf_model.pkl']"
      ]
     },
     "execution_count": 8,
     "metadata": {},
     "output_type": "execute_result"
    }
   ],
   "source": [
    "\n",
    "features = ['hour', 'weekday', 'Voltage', 'Global_intensity']\n",
    "target = 'Global_active_power'\n",
    "\n",
    "X = df[features]\n",
    "y = df[target]\n",
    "\n",
    "# Sampling to reduce size\n",
    "X_sample, _, y_sample, _ = train_test_split(X, y, train_size=0.3, random_state=42)\n",
    "\n",
    "# Train Random Forest (simplified)\n",
    "model = RandomForestRegressor(n_estimators=10, max_depth=5, random_state=42)\n",
    "model.fit(X_sample, y_sample)\n",
    "\n",
    "# Save model (compressed)\n",
    "joblib.dump(model, 'Ops_rf_model.pkl', compress=3)\n"
   ]
  },
  {
   "cell_type": "code",
   "execution_count": 10,
   "id": "59b4178d",
   "metadata": {},
   "outputs": [
    {
     "data": {
      "text/plain": [
       "['/tmp/Ops_rf_model_old.pkl']"
      ]
     },
     "execution_count": 10,
     "metadata": {},
     "output_type": "execute_result"
    }
   ],
   "source": [
    "import os\n",
    "\n",
    "# Save model (compressed) to an older location as well\n",
    "joblib.dump(model, 'Ops_rf_model.pkl', compress=3)\n",
    "\n",
    "# Ensure /tmp directory exists before saving\n",
    "os.makedirs('/tmp', exist_ok=True)\n",
    "joblib.dump(model, '/tmp/Ops_rf_model_old.pkl', compress=3)"
   ]
  }
 ],
 "metadata": {
  "kernelspec": {
   "display_name": "Python 3",
   "language": "python",
   "name": "python3"
  },
  "language_info": {
   "codemirror_mode": {
    "name": "ipython",
    "version": 3
   },
   "file_extension": ".py",
   "mimetype": "text/x-python",
   "name": "python",
   "nbconvert_exporter": "python",
   "pygments_lexer": "ipython3",
   "version": "3.10.0"
  }
 },
 "nbformat": 4,
 "nbformat_minor": 5
}
